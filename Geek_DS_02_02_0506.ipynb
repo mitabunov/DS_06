{
 "cells": [
  {
   "cell_type": "code",
   "execution_count": 4,
   "metadata": {
    "scrolled": true
   },
   "outputs": [
    {
     "name": "stderr",
     "output_type": "stream",
     "text": [
      "UsageError: Line magic function `%plt.style.use('fivethirtyeight')` not found.\n"
     ]
    }
   ],
   "source": [
    "import numpy as np\n",
    "import pandas as pd\n",
    "import matplotlib.pyplot as plt\n",
    "import requests\n",
    "import seaborn as sns\n",
    "from scipy.stats import norm, normaltest\n",
    "\n",
    "%plt.style.use('fivethirtyeight')"
   ]
  },
  {
   "cell_type": "code",
   "execution_count": null,
   "metadata": {},
   "outputs": [],
   "source": [
    "matplotlib.style.use('fivethirtyeight')"
   ]
  },
  {
   "cell_type": "code",
   "execution_count": 5,
   "metadata": {},
   "outputs": [],
   "source": [
    "#скачайте датасет creditcard.csv с сайта Kaggle.com по ссылке: https://www.kaggle.com/mlg-ulb/creditcardfraud \n",
    "#Данный датасет является примером несбалансированных данных, \n",
    "#так как мошеннические операции с картами встречаются реже обычных. \n",
    "#Импортруйте библиотеку Pandas, а также используйте для графиков стиль fivethirtyeight. \n",
    "#Посчитайте с помощью метода value_counts количество наблюдений для каждого значения целевой переменной Class и \n",
    "#примените к полученным данным метод plot, чтобы построить столбчатую диаграмму"
   ]
  },
  {
   "cell_type": "code",
   "execution_count": 6,
   "metadata": {},
   "outputs": [],
   "source": [
    "\n",
    "\n",
    "# url = '/Рабочий стол/Geek_Script_2605/Geek_Home_DC/creditcard.csv'\n",
    "#url = 'https://www.kaggle.com/mlg-ulb/creditcardfraud/creditcard.csv'\n",
    "\n",
    "\n",
    "# df = pd.read_csv('/Рабочий стол/Geek_Script_2605/Geek_Home_DC/creditcard.csv')\n",
    "df = pd.read_csv('/home/mikhail/Рабочий стол/Geek_Script_2605/Geek_Home_DC/creditcard.csv')\n",
    "#df = pd.read_csv(url, sep='\\t', error_bad_lines=False)\n",
    "# # df = pd.read_csv(url, sep='\\t', skiprows=N)\n",
    "# df = pd.read_csv(url, sep='\\t', comment='#')\n",
    "# df = pd.read_csv(url, header=None, error_bad_lines=False)\n",
    "\n",
    "# df.info()\n",
    "# df.columns\n",
    "# df.shape\n",
    "\n",
    "# df_count = df['Class'].value_counts()\n",
    "# df_count\n",
    "\n",
    "\n",
    "\n",
    "# Plot first column of df\n",
    "# pd.DataFrame.hist(df.ix[:, 0:1])\n",
    "# plt.xlabel('fixed acidity (g(tartaric acid)/dm$^3$)')\n",
    "# plt.ylabel('count')\n",
    "# plt.show()'\n",
    "\n",
    "\n",
    "\n",
    "\n"
   ]
  },
  {
   "cell_type": "code",
   "execution_count": 7,
   "metadata": {},
   "outputs": [
    {
     "data": {
      "text/plain": [
       "0    284315\n",
       "1       492\n",
       "Name: Class, dtype: int64"
      ]
     },
     "execution_count": 7,
     "metadata": {},
     "output_type": "execute_result"
    }
   ],
   "source": [
    "df_count = df['Class'].value_counts()\n",
    "df_count"
   ]
  },
  {
   "cell_type": "code",
   "execution_count": 8,
   "metadata": {},
   "outputs": [
    {
     "data": {
      "image/png": "[encoded data removed]",
      "text/plain": [
       "<matplotlib.figure.Figure at 0x7f871492a780>"
      ]
     },
     "metadata": {
      "needs_background": "light"
     },
     "output_type": "display_data"
    }
   ],
   "source": [
    "df_count.plot(kind=\"bar\")\n",
    "\n",
    "plt.show()"
   ]
  },
  {
   "cell_type": "code",
   "execution_count": 9,
   "metadata": {},
   "outputs": [],
   "source": [
    "#  Затем постройте такую же диаграмму, используя логарифмический масштаб. \n",
    "#     На следующем графике постройте две гистограммы по значениям признака V1 — одну для мошеннических транзакций \n",
    "#     (Class равен 1) и другую — для обычных (Class равен 0). \n",
    "#     Подберите значение аргумента density так, чтобы по вертикали графика было расположено не число наблюдений, \n",
    "#     а плотность распределения. \n",
    "#     Число бинов должно равняться 20 для обеих гистограмм, а коэффициент alpha сделайте равным 0.5, \n",
    "#     чтобы гистограммы были полупрозрачными и не загораживали друг друга. \n",
    "#     Создайте легенду с двумя значениями: Class 0 и Class 1. \n",
    "#         Гистограмма обычных транзакций должна быть серого цвета, а мошеннических — красного. \n",
    "#         Горизонтальной оси дайте название Class."
   ]
  },
  {
   "cell_type": "code",
   "execution_count": 10,
   "metadata": {},
   "outputs": [
    {
     "data": {
      "image/png": "[encoded data removed]",
      "text/plain": [
       "<matplotlib.figure.Figure at 0x7f871283a4a8>"
      ]
     },
     "metadata": {
      "needs_background": "light"
     },
     "output_type": "display_data"
    }
   ],
   "source": [
    "df_count.plot(kind=\"bar\", logy=True)\n",
    "\n",
    "plt.show()"
   ]
  },
  {
   "cell_type": "code",
   "execution_count": 11,
   "metadata": {},
   "outputs": [],
   "source": [
    "#   две гистограммы по значениям признака V1 — одну для мошеннических транзакций \n",
    "#     (Class равен 1) и другую — для обычных (Class равен 0). "
   ]
  },
  {
   "cell_type": "code",
   "execution_count": 12,
   "metadata": {},
   "outputs": [
    {
     "data": {
      "text/plain": [
       " 2.055797    77\n",
       " 1.245674    77\n",
       " 2.053311    62\n",
       " 1.302378    60\n",
       " 2.040211    53\n",
       " 2.085175    48\n",
       " 1.332849    45\n",
       " 1.018412    40\n",
       " 1.335053    39\n",
       " 1.315404    36\n",
       "-0.302521    36\n",
       " 2.108108    35\n",
       " 2.048629    30\n",
       " 0.898614    28\n",
       " 1.961343    27\n",
       " 1.311258    27\n",
       " 1.582101    26\n",
       " 1.277616    25\n",
       " 1.808886    25\n",
       " 1.757259    24\n",
       " 1.012595    24\n",
       " 1.160957    24\n",
       " 1.284475    23\n",
       " 1.572441    23\n",
       " 1.293053    21\n",
       " 2.034997    21\n",
       " 1.231961    21\n",
       " 1.207099    21\n",
       " 2.050734    20\n",
       " 1.058605    19\n",
       "             ..\n",
       "-0.576306     1\n",
       " 2.043126     1\n",
       " 2.113639     1\n",
       " 1.864807     1\n",
       "-2.559942     1\n",
       "-1.193567     1\n",
       " 0.028762     1\n",
       "-0.536830     1\n",
       " 1.240466     1\n",
       "-0.457748     1\n",
       " 1.310701     1\n",
       "-1.241286     1\n",
       " 1.969758     1\n",
       " 1.739430     1\n",
       " 0.880519     1\n",
       "-1.930498     1\n",
       "-0.974183     1\n",
       "-1.333047     1\n",
       " 0.886107     1\n",
       " 2.269100     1\n",
       "-2.208709     1\n",
       "-0.414179     1\n",
       " 1.288008     1\n",
       "-0.314562     1\n",
       " 0.997526     1\n",
       "-0.069327     1\n",
       "-1.619420     1\n",
       " 1.174923     1\n",
       " 2.157306     1\n",
       " 2.287784     1\n",
       "Name: V1, Length: 275663, dtype: int64"
      ]
     },
     "execution_count": 12,
     "metadata": {},
     "output_type": "execute_result"
    }
   ],
   "source": [
    "df_count_V = df['V1'].value_counts()\n",
    "df_count_V"
   ]
  },
  {
   "cell_type": "code",
   "execution_count": 13,
   "metadata": {},
   "outputs": [
    {
     "data": {
      "text/plain": [
       "Class\n",
       "0   -1.359807\n",
       "0    1.191857\n",
       "0   -1.358354\n",
       "0   -0.966272\n",
       "0   -1.158233\n",
       "Name: V1, dtype: float64"
      ]
     },
     "execution_count": 13,
     "metadata": {},
     "output_type": "execute_result"
    }
   ],
   "source": [
    "df_V = df[\"V1\"]\n",
    "df_V.index = df[\"Class\"]\n",
    "\n",
    "df_V.head()"
   ]
  },
  {
   "cell_type": "code",
   "execution_count": 14,
   "metadata": {},
   "outputs": [
    {
     "data": {
      "text/plain": [
       "<matplotlib.axes._subplots.AxesSubplot at 0x7f871279c9b0>"
      ]
     },
     "execution_count": 14,
     "metadata": {},
     "output_type": "execute_result"
    },
    {
     "data": {
      "image/png": "[encoded data removed]",
      "text/plain": [
       "<matplotlib.figure.Figure at 0x7f871277ec18>"
      ]
     },
     "metadata": {
      "needs_background": "light"
     },
     "output_type": "display_data"
    }
   ],
   "source": [
    "V1_series = df.set_index('Class')['V1']\n",
    "V1_series.hist(alpha=0.6)"
   ]
  },
  {
   "cell_type": "code",
   "execution_count": 15,
   "metadata": {},
   "outputs": [
    {
     "data": {
      "text/plain": [
       "<matplotlib.axes._subplots.AxesSubplot at 0x7f87125b6240>"
      ]
     },
     "execution_count": 15,
     "metadata": {},
     "output_type": "execute_result"
    },
    {
     "data": {
      "text/plain": [
       "<matplotlib.figure.Figure at 0x7f87126f4a90>"
      ]
     },
     "metadata": {},
     "output_type": "display_data"
    },
    {
     "data": {
      "image/png": "[encoded data removed]",
      "text/plain": [
       "<matplotlib.figure.Figure at 0x7f871260db70>"
      ]
     },
     "metadata": {
      "needs_background": "light"
     },
     "output_type": "display_data"
    }
   ],
   "source": [
    "df_V1 = pd.DataFrame(df, columns=['V1', 'Class'])\n",
    "\n",
    "plt.figure()\n",
    "\n",
    "df_V1.plot.hist(alpha=0.5, bins=20, logy=True)"
   ]
  },
  {
   "cell_type": "code",
   "execution_count": 16,
   "metadata": {},
   "outputs": [
    {
     "data": {
      "text/plain": [
       "<matplotlib.axes._subplots.AxesSubplot at 0x7f871247a128>"
      ]
     },
     "execution_count": 16,
     "metadata": {},
     "output_type": "execute_result"
    },
    {
     "data": {
      "image/png": "[encoded data removed]",
      "text/plain": [
       "<matplotlib.figure.Figure at 0x7f871496a278>"
      ]
     },
     "metadata": {
      "needs_background": "light"
     },
     "output_type": "display_data"
    }
   ],
   "source": [
    " df['V1'].diff().hist()"
   ]
  },
  {
   "cell_type": "code",
   "execution_count": null,
   "metadata": {},
   "outputs": [],
   "source": [
    "sns.jointplot(df['V1'],df['Class'],kind='kde')"
   ]
  }
 ],
 "metadata": {
  "kernelspec": {
   "display_name": "Python 3",
   "language": "python",
   "name": "python3"
  },
  "language_info": {
   "codemirror_mode": {
    "name": "ipython",
    "version": 3
   },
   "file_extension": ".py",
   "mimetype": "text/x-python",
   "name": "python",
   "nbconvert_exporter": "python",
   "pygments_lexer": "ipython3",
   "version": "3.6.7"
  }
 },
 "nbformat": 4,
 "nbformat_minor": 2
}
